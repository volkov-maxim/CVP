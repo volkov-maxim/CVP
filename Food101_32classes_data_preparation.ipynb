{
 "cells": [
  {
   "cell_type": "code",
   "execution_count": 1,
   "metadata": {},
   "outputs": [],
   "source": [
    "from collections import defaultdict\n",
    "import os\n",
    "from shutil import copy"
   ]
  },
  {
   "cell_type": "code",
   "execution_count": 2,
   "metadata": {},
   "outputs": [],
   "source": [
    "#Get classes from the labels.txt file and creat food_list of them\n",
    "def get_lables(filepath):\n",
    "    food_list = []\n",
    "    with open(filepath, 'r') as txt:\n",
    "        food_list = [read.replace(\" \", \"_\").lower().strip() for read in txt.readlines()]\n",
    "    return food_list"
   ]
  },
  {
   "cell_type": "code",
   "execution_count": 7,
   "metadata": {},
   "outputs": [
    {
     "name": "stdout",
     "output_type": "stream",
     "text": [
      "Creating train data folder with new classes\n",
      "['apple_pie', 'baby_back_ribs', 'bread_pudding', 'breakfast_burrito', 'caesar_salad', 'chicken_curry', 'chicken_wings', 'club_sandwich', 'cup_cakes', 'dumplings', 'eggs_benedict', 'filet_mignon', 'fish_and_chips', 'french_fries', 'french_toast', 'greek_salad', 'grilled_cheese_sandwich', 'grilled_salmon', 'hamburger', 'hot_dog', 'ice_cream', 'macaroni_and_cheese', 'macarons', 'omelette', 'pancakes', 'pizza', 'pork_chop', 'prime_rib', 'risotto', 'spaghetti_bolognese', 'spaghetti_carbonara', 'steak']\n"
     ]
    }
   ],
   "source": [
    "print(\"Creating train data folder with new classes\")\n",
    "labels_list = get_lables('food-101/meta/labels.txt')\n",
    "print(labels_list)"
   ]
  },
  {
   "cell_type": "code",
   "execution_count": 4,
   "metadata": {},
   "outputs": [],
   "source": [
    "# Create train/test directory and fill them with train/test files \n",
    "def prepare_data(filepath, src,dest):\n",
    "  classes_images = defaultdict(list)\n",
    "  with open(filepath, 'r') as txt:\n",
    "      paths = [read.strip() for read in txt.readlines()]\n",
    "      for p in paths:\n",
    "        food = p.split('/')\n",
    "        if food[0] in labels_list:\n",
    "            classes_images[food[0]].append(food[1] + '.jpg')\n",
    "\n",
    "  for food in classes_images.keys():\n",
    "    print(\"\\nCopying images into \",food)\n",
    "    if not os.path.exists(os.path.join(dest,food)):\n",
    "      os.makedirs(os.path.join(dest,food))\n",
    "    for i in classes_images[food]:\n",
    "      copy(os.path.join(src,food,i), os.path.join(dest,food,i))\n",
    "  print(\"Copying Done!\")"
   ]
  },
  {
   "cell_type": "code",
   "execution_count": 5,
   "metadata": {},
   "outputs": [
    {
     "name": "stdout",
     "output_type": "stream",
     "text": [
      "('\\nCopying images into ', 'filet_mignon')\n",
      "('\\nCopying images into ', 'hamburger')\n",
      "('\\nCopying images into ', 'dumplings')\n",
      "('\\nCopying images into ', 'baby_back_ribs')\n",
      "('\\nCopying images into ', 'eggs_benedict')\n",
      "('\\nCopying images into ', 'club_sandwich')\n",
      "('\\nCopying images into ', 'bread_pudding')\n",
      "('\\nCopying images into ', 'chicken_wings')\n",
      "('\\nCopying images into ', 'cup_cakes')\n",
      "('\\nCopying images into ', 'breakfast_burrito')\n",
      "('\\nCopying images into ', 'hot_dog')\n",
      "('\\nCopying images into ', 'macarons')\n",
      "('\\nCopying images into ', 'pork_chop')\n",
      "('\\nCopying images into ', 'spaghetti_bolognese')\n",
      "('\\nCopying images into ', 'pizza')\n",
      "('\\nCopying images into ', 'spaghetti_carbonara')\n",
      "('\\nCopying images into ', 'macaroni_and_cheese')\n",
      "('\\nCopying images into ', 'prime_rib')\n",
      "('\\nCopying images into ', 'pancakes')\n",
      "('\\nCopying images into ', 'greek_salad')\n",
      "('\\nCopying images into ', 'french_toast')\n",
      "('\\nCopying images into ', 'ice_cream')\n",
      "('\\nCopying images into ', 'omelette')\n",
      "('\\nCopying images into ', 'apple_pie')\n",
      "('\\nCopying images into ', 'grilled_salmon')\n",
      "('\\nCopying images into ', 'risotto')\n",
      "('\\nCopying images into ', 'grilled_cheese_sandwich')\n",
      "('\\nCopying images into ', 'chicken_curry')\n",
      "('\\nCopying images into ', 'caesar_salad')\n",
      "('\\nCopying images into ', 'french_fries')\n",
      "('\\nCopying images into ', 'fish_and_chips')\n",
      "('\\nCopying images into ', 'steak')\n",
      "Copying Done!\n"
     ]
    }
   ],
   "source": [
    "prepare_data('food-101/meta/train.txt', 'food-101/images','food-101/train')"
   ]
  },
  {
   "cell_type": "code",
   "execution_count": 6,
   "metadata": {},
   "outputs": [
    {
     "name": "stdout",
     "output_type": "stream",
     "text": [
      "('\\nCopying images into ', 'filet_mignon')\n",
      "('\\nCopying images into ', 'hamburger')\n",
      "('\\nCopying images into ', 'dumplings')\n",
      "('\\nCopying images into ', 'baby_back_ribs')\n",
      "('\\nCopying images into ', 'eggs_benedict')\n",
      "('\\nCopying images into ', 'club_sandwich')\n",
      "('\\nCopying images into ', 'bread_pudding')\n",
      "('\\nCopying images into ', 'chicken_wings')\n",
      "('\\nCopying images into ', 'cup_cakes')\n",
      "('\\nCopying images into ', 'breakfast_burrito')\n",
      "('\\nCopying images into ', 'hot_dog')\n",
      "('\\nCopying images into ', 'macarons')\n",
      "('\\nCopying images into ', 'pork_chop')\n",
      "('\\nCopying images into ', 'spaghetti_bolognese')\n",
      "('\\nCopying images into ', 'pizza')\n",
      "('\\nCopying images into ', 'spaghetti_carbonara')\n",
      "('\\nCopying images into ', 'macaroni_and_cheese')\n",
      "('\\nCopying images into ', 'prime_rib')\n",
      "('\\nCopying images into ', 'pancakes')\n",
      "('\\nCopying images into ', 'greek_salad')\n",
      "('\\nCopying images into ', 'french_toast')\n",
      "('\\nCopying images into ', 'ice_cream')\n",
      "('\\nCopying images into ', 'omelette')\n",
      "('\\nCopying images into ', 'apple_pie')\n",
      "('\\nCopying images into ', 'grilled_salmon')\n",
      "('\\nCopying images into ', 'risotto')\n",
      "('\\nCopying images into ', 'grilled_cheese_sandwich')\n",
      "('\\nCopying images into ', 'chicken_curry')\n",
      "('\\nCopying images into ', 'caesar_salad')\n",
      "('\\nCopying images into ', 'french_fries')\n",
      "('\\nCopying images into ', 'fish_and_chips')\n",
      "('\\nCopying images into ', 'steak')\n",
      "Copying Done!\n"
     ]
    }
   ],
   "source": [
    "prepare_data('food-101/meta/test.txt', 'food-101/images','food-101/test')"
   ]
  },
  {
   "cell_type": "code",
   "execution_count": null,
   "metadata": {},
   "outputs": [],
   "source": []
  }
 ],
 "metadata": {
  "kernelspec": {
   "display_name": "Python 3",
   "language": "python",
   "name": "python3"
  },
  "language_info": {
   "codemirror_mode": {
    "name": "ipython",
    "version": 3
   },
   "file_extension": ".py",
   "mimetype": "text/x-python",
   "name": "python",
   "nbconvert_exporter": "python",
   "pygments_lexer": "ipython3",
   "version": "3.7.1"
  }
 },
 "nbformat": 4,
 "nbformat_minor": 2
}
