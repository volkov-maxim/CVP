{
  "nbformat": 4,
  "nbformat_minor": 0,
  "metadata": {
    "colab": {
      "name": "Window_size_analysis_pandas.ipynb",
      "version": "0.3.2",
      "provenance": [],
      "collapsed_sections": []
    },
    "kernelspec": {
      "name": "python3",
      "display_name": "Python 3"
    },
    "accelerator": "GPU"
  },
  "cells": [
    {
      "cell_type": "code",
      "metadata": {
        "id": "3RvkKu5M6ERn",
        "colab_type": "code",
        "colab": {}
      },
      "source": [
        "#Libraries import\n",
        "import tensorflow as tf\n",
        "from tensorflow import keras\n",
        "import numpy as np\n",
        "from tensorflow.python.keras.backend import set_session\n",
        "from tensorflow.python.keras.models import load_model\n",
        "from PIL import Image\n",
        "import matplotlib.pyplot as plt\n",
        "%matplotlib inline\n",
        "import cv2\n",
        "import csv\n",
        "import pandas as pd\n",
        "import os\n",
        "from os import listdir\n",
        "import re"
      ],
      "execution_count": 0,
      "outputs": []
    },
    {
      "cell_type": "code",
      "metadata": {
        "id": "UCLAmesizXSs",
        "colab_type": "code",
        "colab": {}
      },
      "source": [
        "#Mount Google Drive to access files\n",
        "from google.colab import drive\n",
        "drive.mount('/content/drive')"
      ],
      "execution_count": 0,
      "outputs": []
    },
    {
      "cell_type": "code",
      "metadata": {
        "id": "8UamTgcP6Iyr",
        "colab_type": "code",
        "colab": {}
      },
      "source": [
        "#Load the model to predict\n",
        "sess = tf.InteractiveSession()\n",
        "model = load_model('/content/drive/My Drive/Data_Science/Dissertation/Inception_batch32_SGD_0.005_30epochs.log.hdf5')"
      ],
      "execution_count": 0,
      "outputs": []
    },
    {
      "cell_type": "code",
      "metadata": {
        "id": "0GDDh2YGt6L5",
        "colab_type": "code",
        "colab": {}
      },
      "source": [
        "# File directory\n",
        "filepath = ('/content/drive/My Drive/Test_images/Dissertation_test')\n",
        "food_list = ['apple pie','baby back ribs','bread pudding','breakfast burrito','caesar salad','chicken curry','chicken wings','club sandwich','cup cakes','dumplings','eggs benedict','filet mignon','fish and chips','french fries','french toast','greek salad','grilled cheese sandwich','grilled salmon','hamburger','hot dog','ice cream','macaroni and cheese','macarons','omelette','pancakes','pizza','pork chop','prime rib','risotto','spaghetti bolognese','spaghetti carbonara','steak']"
      ],
      "execution_count": 0,
      "outputs": []
    },
    {
      "cell_type": "code",
      "metadata": {
        "id": "reUC7H-qswQo",
        "colab_type": "code",
        "colab": {}
      },
      "source": [
        "#Remove digits from the file names\n",
        "def remove_digits(list): \n",
        "    pattern = '[0-9]'\n",
        "    list = [re.sub(pattern, '', i) for i in list] \n",
        "    return list\n",
        "# Extract the dishes names from the file names\n",
        "def prepare_data(filepath):\n",
        "  #classes_images = defaultdict(list)\n",
        "  global plate_content\n",
        "  for subdir_path, dirs, files in os.walk(filepath):\n",
        "    for file in files:\n",
        "      path = os.path.join(subdir_path, file)\n",
        "      print(path)\n",
        "      file = file.replace(\"_\",\" \")\n",
        "      class_name = file.split('.')\n",
        "      class_name = class_name[0].split('+')\n",
        "      img_raw = tf.read_file(path)\n",
        "      image = tf.image.decode_image(img_raw).eval()\n",
        "      sliding = sess.run(tf.shape(image))\n",
        "      file_name = file\n",
        "      plate_content = remove_digits(class_name)\n",
        "      number_classes = subdir_path[-1]\n",
        "      selecting(sliding,image,file_name,plate_content,number_classes)\n",
        "      "
      ],
      "execution_count": 0,
      "outputs": []
    },
    {
      "cell_type": "code",
      "metadata": {
        "id": "Re2yvx2B08C7",
        "colab_type": "code",
        "colab": {}
      },
      "source": [
        "#Iteratively change parameters\n",
        "def selecting(sliding,image,file_name,plate_content,number_classes):\n",
        "  global df_global\n",
        "  for n in range(20,60,10):\n",
        "    for m in range(40,110,20):\n",
        "      ksize_rows, ksize_cols = int((sliding[0] * n)/100), int((sliding[1] * n)/100)\n",
        "      strides_rows, strides_cols =  int((ksize_rows * m)/100), int((ksize_cols * m)/100)\n",
        "      classes['slidind_window'] = n\n",
        "      classes['strides'] = m\n",
        "      classes['file_name'] = file_name\n",
        "      classes['plate_content'] = plate_content\n",
        "      classes['number_class'] = number_classes\n",
        "      ksizes = [1, ksize_rows, ksize_cols, 1] # The size of sliding window\n",
        "      strides = [1, strides_rows, strides_cols, 1]# How far the centers of 2 consecutive patches are in the image\n",
        "      rates = [1, 1, 1, 1] # sample pixel consecutively\n",
        "      padding='VALID' # or 'SAME'\n",
        "      image_expanded = tf.expand_dims(image, 0)\n",
        "      image_patches = tf.extract_image_patches(image_expanded, ksizes, strides, rates, padding)\n",
        "      shapes = sess.run(tf.shape(image_patches))\n",
        "      nr, nc = shapes[1], shapes[2]\n",
        "      classes['patches_number'] = nr * nc\n",
        "      for i in range(nr):\n",
        "        for j in range(nc):\n",
        "          x = sess.run(tf.reshape(image_patches[0,i,j,], [ksize_rows, ksize_cols, 3]))\n",
        "          x = cv2.resize(x, dsize=(300, 300), interpolation=cv2.INTER_CUBIC)\n",
        "          predict_class(model, x, False)\n",
        "      df_local  = pd.DataFrame([classes], columns=classes.keys())\n",
        "      df_global = df_global.append(df_local, sort=False)\n",
        "      #print(df_global)\n",
        "      classes.clear()\n",
        "      classes[\"true_classes\"] = 0"
      ],
      "execution_count": 0,
      "outputs": []
    },
    {
      "cell_type": "code",
      "metadata": {
        "id": "KFmI84YH6d9m",
        "colab_type": "code",
        "colab": {}
      },
      "source": [
        "#Preprocess image, calling the predic method, find the winner class and match with lable\n",
        "def predict_class(model, image, show_debug = False):\n",
        "    img = np.expand_dims(image, axis=0)\n",
        "    img = img / 255  \n",
        "    pred = model.predict(img, verbose=0)\n",
        "    #print(pred)\n",
        "    max_prob = np.amax(pred)\n",
        "    if max_prob > 0.6:\n",
        "      #print(pred)\n",
        "      index = np.argmax(pred)\n",
        "      food_list.sort()\n",
        "      pred_value = food_list[index]\n",
        "      fill_dict(pred_value)\n",
        "      fill_true_class(pred_value)\n",
        "      if show_debug:\n",
        "        plt.imshow(img[0])                           \n",
        "        plt.axis('off')\n",
        "        plt.title(pred_value)\n",
        "        plt.show()"
      ],
      "execution_count": 0,
      "outputs": []
    },
    {
      "cell_type": "code",
      "metadata": {
        "id": "bmilT4q4uSBt",
        "colab_type": "code",
        "colab": {}
      },
      "source": [
        "def fill_true_class(key):\n",
        "  for i in plate_content:\n",
        "    if key == i:\n",
        "      classes[\"true_classes\"] +=1"
      ],
      "execution_count": 0,
      "outputs": []
    },
    {
      "cell_type": "code",
      "metadata": {
        "id": "qCS6jAC3mkdU",
        "colab_type": "code",
        "colab": {}
      },
      "source": [
        "#Fill the dictionary with lables\n",
        "def fill_dict(key):\n",
        "  if key in classes:\n",
        "    classes[key] += 1\n",
        "  else:\n",
        "    classes[key] = 1"
      ],
      "execution_count": 0,
      "outputs": []
    },
    {
      "cell_type": "code",
      "metadata": {
        "id": "cX4HU63nBvcs",
        "colab_type": "code",
        "colab": {}
      },
      "source": [
        "#%%time\n",
        "classes = {}\n",
        "classes[\"true_classes\"] = 0\n",
        "true_patch = 0\n",
        "df_global = pd.DataFrame()\n",
        "prepare_data(filepath)\n",
        "#print(true_classes)"
      ],
      "execution_count": 0,
      "outputs": []
    },
    {
      "cell_type": "code",
      "metadata": {
        "id": "RAwvO9mIMu40",
        "colab_type": "code",
        "colab": {}
      },
      "source": [
        "FILE1 = '/content/drive/My Drive/DataFrames/df_1class.csv'\n",
        "FILE2 = '/content/drive/My Drive/DataFrames/df_2class.csv'\n",
        "FILE3 = '/content/drive/My Drive/DataFrames/df_3class.csv'\n",
        "FILE4 = '/content/drive/My Drive/DataFrames/df_4class.csv'\n",
        "df_1 = pd.read_csv(FILE1)\n",
        "df_2 = pd.read_csv(FILE2)\n",
        "df_3 = pd.read_csv(FILE3)\n",
        "df_4 = pd.read_csv(FILE4)\n",
        "OUTPUT_FILE = 'df_target.csv'"
      ],
      "execution_count": 0,
      "outputs": []
    },
    {
      "cell_type": "code",
      "metadata": {
        "id": "JkmmffUaNtAz",
        "colab_type": "code",
        "colab": {}
      },
      "source": [
        "df_merged = pd.concat([df_1, df_2, df_3, df_4], ignore_index=True, sort=False)\n",
        "df_merged = pd.DataFrame(df_merged)"
      ],
      "execution_count": 0,
      "outputs": []
    },
    {
      "cell_type": "code",
      "metadata": {
        "id": "Fcy5piG1lZQI",
        "colab_type": "code",
        "outputId": "c8eac5be-1d92-4530-8274-a9d8f7e356a5",
        "colab": {
          "base_uri": "https://localhost:8080/",
          "height": 34
        }
      },
      "source": [
        "df_merged.shape"
      ],
      "execution_count": 5,
      "outputs": [
        {
          "output_type": "execute_result",
          "data": {
            "text/plain": [
              "(624, 39)"
            ]
          },
          "metadata": {
            "tags": []
          },
          "execution_count": 5
        }
      ]
    },
    {
      "cell_type": "code",
      "metadata": {
        "id": "6vBO2elUXTX_",
        "colab_type": "code",
        "colab": {}
      },
      "source": [
        "df_merged['Overall_classes_>0.6'] = df_merged.iloc[:,7:].sum(axis=1, skipna = True)"
      ],
      "execution_count": 0,
      "outputs": []
    },
    {
      "cell_type": "code",
      "metadata": {
        "id": "YAS7CexIeRJL",
        "colab_type": "code",
        "colab": {}
      },
      "source": [
        "df_merged['all_classes'] = np.zeros(len(df_merged),dtype=float)\n",
        "df_merged.fillna(0,inplace=True)"
      ],
      "execution_count": 0,
      "outputs": []
    },
    {
      "cell_type": "code",
      "metadata": {
        "id": "CBnAskjTQ8fU",
        "colab_type": "code",
        "colab": {
          "base_uri": "https://localhost:8080/",
          "height": 343
        },
        "outputId": "a926ca6e-f908-4f01-9128-fc4e98096e14"
      },
      "source": [
        "df_merged.head()"
      ],
      "execution_count": 8,
      "outputs": [
        {
          "output_type": "execute_result",
          "data": {
            "text/html": [
              "<div>\n",
              "<style scoped>\n",
              "    .dataframe tbody tr th:only-of-type {\n",
              "        vertical-align: middle;\n",
              "    }\n",
              "\n",
              "    .dataframe tbody tr th {\n",
              "        vertical-align: top;\n",
              "    }\n",
              "\n",
              "    .dataframe thead th {\n",
              "        text-align: right;\n",
              "    }\n",
              "</style>\n",
              "<table border=\"1\" class=\"dataframe\">\n",
              "  <thead>\n",
              "    <tr style=\"text-align: right;\">\n",
              "      <th></th>\n",
              "      <th>true_classes</th>\n",
              "      <th>slidind_window</th>\n",
              "      <th>strides</th>\n",
              "      <th>file_name</th>\n",
              "      <th>plate_content</th>\n",
              "      <th>number_class</th>\n",
              "      <th>patches_number</th>\n",
              "      <th>macarons</th>\n",
              "      <th>apple pie</th>\n",
              "      <th>chicken wings</th>\n",
              "      <th>bread pudding</th>\n",
              "      <th>french toast</th>\n",
              "      <th>fish and chips</th>\n",
              "      <th>breakfast burrito</th>\n",
              "      <th>macaroni and cheese</th>\n",
              "      <th>cup cakes</th>\n",
              "      <th>hamburger</th>\n",
              "      <th>baby back ribs</th>\n",
              "      <th>steak</th>\n",
              "      <th>ice cream</th>\n",
              "      <th>pizza</th>\n",
              "      <th>french fries</th>\n",
              "      <th>hot dog</th>\n",
              "      <th>dumplings</th>\n",
              "      <th>grilled salmon</th>\n",
              "      <th>pork chop</th>\n",
              "      <th>chicken curry</th>\n",
              "      <th>spaghetti bolognese</th>\n",
              "      <th>risotto</th>\n",
              "      <th>eggs benedict</th>\n",
              "      <th>spaghetti carbonara</th>\n",
              "      <th>grilled cheese sandwich</th>\n",
              "      <th>omelette</th>\n",
              "      <th>caesar salad</th>\n",
              "      <th>prime rib</th>\n",
              "      <th>filet mignon</th>\n",
              "      <th>club sandwich</th>\n",
              "      <th>pancakes</th>\n",
              "      <th>greek salad</th>\n",
              "      <th>Overall_classes_&gt;0.6</th>\n",
              "      <th>all_classes</th>\n",
              "    </tr>\n",
              "  </thead>\n",
              "  <tbody>\n",
              "    <tr>\n",
              "      <th>0</th>\n",
              "      <td>21</td>\n",
              "      <td>20</td>\n",
              "      <td>40</td>\n",
              "      <td>apple pie.jpeg</td>\n",
              "      <td>['apple pie']</td>\n",
              "      <td>1</td>\n",
              "      <td>121</td>\n",
              "      <td>7.0</td>\n",
              "      <td>21.0</td>\n",
              "      <td>13.0</td>\n",
              "      <td>8.0</td>\n",
              "      <td>1.0</td>\n",
              "      <td>2.0</td>\n",
              "      <td>0.0</td>\n",
              "      <td>0.0</td>\n",
              "      <td>0.0</td>\n",
              "      <td>0.0</td>\n",
              "      <td>0.0</td>\n",
              "      <td>0.0</td>\n",
              "      <td>0.0</td>\n",
              "      <td>0.0</td>\n",
              "      <td>0.0</td>\n",
              "      <td>0.0</td>\n",
              "      <td>0.0</td>\n",
              "      <td>0.0</td>\n",
              "      <td>0.0</td>\n",
              "      <td>0.0</td>\n",
              "      <td>0.0</td>\n",
              "      <td>0.0</td>\n",
              "      <td>0.0</td>\n",
              "      <td>0.0</td>\n",
              "      <td>0.0</td>\n",
              "      <td>0.0</td>\n",
              "      <td>0.0</td>\n",
              "      <td>0.0</td>\n",
              "      <td>0.0</td>\n",
              "      <td>0.0</td>\n",
              "      <td>0.0</td>\n",
              "      <td>0.0</td>\n",
              "      <td>52.0</td>\n",
              "      <td>0.0</td>\n",
              "    </tr>\n",
              "    <tr>\n",
              "      <th>1</th>\n",
              "      <td>9</td>\n",
              "      <td>20</td>\n",
              "      <td>60</td>\n",
              "      <td>apple pie.jpeg</td>\n",
              "      <td>['apple pie']</td>\n",
              "      <td>1</td>\n",
              "      <td>49</td>\n",
              "      <td>4.0</td>\n",
              "      <td>9.0</td>\n",
              "      <td>4.0</td>\n",
              "      <td>2.0</td>\n",
              "      <td>0.0</td>\n",
              "      <td>1.0</td>\n",
              "      <td>0.0</td>\n",
              "      <td>0.0</td>\n",
              "      <td>0.0</td>\n",
              "      <td>0.0</td>\n",
              "      <td>0.0</td>\n",
              "      <td>0.0</td>\n",
              "      <td>0.0</td>\n",
              "      <td>0.0</td>\n",
              "      <td>0.0</td>\n",
              "      <td>0.0</td>\n",
              "      <td>0.0</td>\n",
              "      <td>0.0</td>\n",
              "      <td>0.0</td>\n",
              "      <td>0.0</td>\n",
              "      <td>0.0</td>\n",
              "      <td>0.0</td>\n",
              "      <td>0.0</td>\n",
              "      <td>0.0</td>\n",
              "      <td>0.0</td>\n",
              "      <td>0.0</td>\n",
              "      <td>0.0</td>\n",
              "      <td>0.0</td>\n",
              "      <td>0.0</td>\n",
              "      <td>0.0</td>\n",
              "      <td>0.0</td>\n",
              "      <td>0.0</td>\n",
              "      <td>20.0</td>\n",
              "      <td>0.0</td>\n",
              "    </tr>\n",
              "    <tr>\n",
              "      <th>2</th>\n",
              "      <td>5</td>\n",
              "      <td>20</td>\n",
              "      <td>80</td>\n",
              "      <td>apple pie.jpeg</td>\n",
              "      <td>['apple pie']</td>\n",
              "      <td>1</td>\n",
              "      <td>36</td>\n",
              "      <td>2.0</td>\n",
              "      <td>5.0</td>\n",
              "      <td>4.0</td>\n",
              "      <td>2.0</td>\n",
              "      <td>0.0</td>\n",
              "      <td>0.0</td>\n",
              "      <td>0.0</td>\n",
              "      <td>0.0</td>\n",
              "      <td>0.0</td>\n",
              "      <td>0.0</td>\n",
              "      <td>0.0</td>\n",
              "      <td>0.0</td>\n",
              "      <td>0.0</td>\n",
              "      <td>0.0</td>\n",
              "      <td>0.0</td>\n",
              "      <td>0.0</td>\n",
              "      <td>0.0</td>\n",
              "      <td>0.0</td>\n",
              "      <td>0.0</td>\n",
              "      <td>0.0</td>\n",
              "      <td>0.0</td>\n",
              "      <td>0.0</td>\n",
              "      <td>0.0</td>\n",
              "      <td>0.0</td>\n",
              "      <td>0.0</td>\n",
              "      <td>0.0</td>\n",
              "      <td>0.0</td>\n",
              "      <td>0.0</td>\n",
              "      <td>0.0</td>\n",
              "      <td>0.0</td>\n",
              "      <td>0.0</td>\n",
              "      <td>0.0</td>\n",
              "      <td>13.0</td>\n",
              "      <td>0.0</td>\n",
              "    </tr>\n",
              "    <tr>\n",
              "      <th>3</th>\n",
              "      <td>2</td>\n",
              "      <td>20</td>\n",
              "      <td>100</td>\n",
              "      <td>apple pie.jpeg</td>\n",
              "      <td>['apple pie']</td>\n",
              "      <td>1</td>\n",
              "      <td>25</td>\n",
              "      <td>2.0</td>\n",
              "      <td>2.0</td>\n",
              "      <td>3.0</td>\n",
              "      <td>1.0</td>\n",
              "      <td>0.0</td>\n",
              "      <td>0.0</td>\n",
              "      <td>1.0</td>\n",
              "      <td>0.0</td>\n",
              "      <td>0.0</td>\n",
              "      <td>0.0</td>\n",
              "      <td>0.0</td>\n",
              "      <td>0.0</td>\n",
              "      <td>0.0</td>\n",
              "      <td>0.0</td>\n",
              "      <td>0.0</td>\n",
              "      <td>0.0</td>\n",
              "      <td>0.0</td>\n",
              "      <td>0.0</td>\n",
              "      <td>0.0</td>\n",
              "      <td>0.0</td>\n",
              "      <td>0.0</td>\n",
              "      <td>0.0</td>\n",
              "      <td>0.0</td>\n",
              "      <td>0.0</td>\n",
              "      <td>0.0</td>\n",
              "      <td>0.0</td>\n",
              "      <td>0.0</td>\n",
              "      <td>0.0</td>\n",
              "      <td>0.0</td>\n",
              "      <td>0.0</td>\n",
              "      <td>0.0</td>\n",
              "      <td>0.0</td>\n",
              "      <td>9.0</td>\n",
              "      <td>0.0</td>\n",
              "    </tr>\n",
              "    <tr>\n",
              "      <th>4</th>\n",
              "      <td>14</td>\n",
              "      <td>30</td>\n",
              "      <td>40</td>\n",
              "      <td>apple pie.jpeg</td>\n",
              "      <td>['apple pie']</td>\n",
              "      <td>1</td>\n",
              "      <td>36</td>\n",
              "      <td>2.0</td>\n",
              "      <td>14.0</td>\n",
              "      <td>4.0</td>\n",
              "      <td>4.0</td>\n",
              "      <td>0.0</td>\n",
              "      <td>0.0</td>\n",
              "      <td>0.0</td>\n",
              "      <td>1.0</td>\n",
              "      <td>0.0</td>\n",
              "      <td>0.0</td>\n",
              "      <td>0.0</td>\n",
              "      <td>0.0</td>\n",
              "      <td>0.0</td>\n",
              "      <td>0.0</td>\n",
              "      <td>0.0</td>\n",
              "      <td>0.0</td>\n",
              "      <td>0.0</td>\n",
              "      <td>0.0</td>\n",
              "      <td>0.0</td>\n",
              "      <td>0.0</td>\n",
              "      <td>0.0</td>\n",
              "      <td>0.0</td>\n",
              "      <td>0.0</td>\n",
              "      <td>0.0</td>\n",
              "      <td>0.0</td>\n",
              "      <td>0.0</td>\n",
              "      <td>0.0</td>\n",
              "      <td>0.0</td>\n",
              "      <td>0.0</td>\n",
              "      <td>0.0</td>\n",
              "      <td>0.0</td>\n",
              "      <td>0.0</td>\n",
              "      <td>25.0</td>\n",
              "      <td>0.0</td>\n",
              "    </tr>\n",
              "  </tbody>\n",
              "</table>\n",
              "</div>"
            ],
            "text/plain": [
              "   true_classes  slidind_window  ...  Overall_classes_>0.6 all_classes\n",
              "0            21              20  ...                  52.0         0.0\n",
              "1             9              20  ...                  20.0         0.0\n",
              "2             5              20  ...                  13.0         0.0\n",
              "3             2              20  ...                   9.0         0.0\n",
              "4            14              30  ...                  25.0         0.0\n",
              "\n",
              "[5 rows x 41 columns]"
            ]
          },
          "metadata": {
            "tags": []
          },
          "execution_count": 8
        }
      ]
    },
    {
      "cell_type": "code",
      "metadata": {
        "id": "XBo4vzhbchKe",
        "colab_type": "code",
        "colab": {}
      },
      "source": [
        "for count,i in enumerate(df_merged['plate_content']):\n",
        "  if df_merged[eval(i)].iloc[count].all() > 0:\n",
        "    df_merged.at[count,'all_classes'] = 1\n",
        "  else:\n",
        "    df_merged.at[count,'all_classes'] = 0"
      ],
      "execution_count": 0,
      "outputs": []
    },
    {
      "cell_type": "code",
      "metadata": {
        "id": "IZgMrFZJc2CO",
        "colab_type": "code",
        "colab": {}
      },
      "source": [
        "df_merged.to_csv('df_clean.csv')"
      ],
      "execution_count": 0,
      "outputs": []
    },
    {
      "cell_type": "code",
      "metadata": {
        "id": "Aj4stnypjaG-",
        "colab_type": "code",
        "colab": {}
      },
      "source": [
        "indexNames = df_merged[df_merged['all_classes'] == 0 ].index\n",
        "df_merged.drop(indexNames , inplace=True)"
      ],
      "execution_count": 0,
      "outputs": []
    },
    {
      "cell_type": "code",
      "metadata": {
        "id": "hkzJ-d90-KD6",
        "colab_type": "code",
        "colab": {}
      },
      "source": [
        "df_merged['Target_ratio'] = df_merged['true_classes']/df_merged['Overall_classes_>0.6']"
      ],
      "execution_count": 0,
      "outputs": []
    },
    {
      "cell_type": "code",
      "metadata": {
        "id": "swjRDpmgdVi8",
        "colab_type": "code",
        "outputId": "ee9db8c4-d2ea-4bd7-a0e6-d7cedb8fc3c8",
        "colab": {
          "base_uri": "https://localhost:8080/",
          "height": 34
        }
      },
      "source": [
        "df_merged.shape"
      ],
      "execution_count": 13,
      "outputs": [
        {
          "output_type": "execute_result",
          "data": {
            "text/plain": [
              "(256, 42)"
            ]
          },
          "metadata": {
            "tags": []
          },
          "execution_count": 13
        }
      ]
    },
    {
      "cell_type": "code",
      "metadata": {
        "id": "9jYkUkiKZwMK",
        "colab_type": "code",
        "outputId": "8af3c153-9a82-4cca-c993-8f5fb60bf612",
        "colab": {
          "base_uri": "https://localhost:8080/",
          "height": 948
        }
      },
      "source": [
        "df_pivot = df_merged['Target_ratio'].groupby([df_merged['number_class'],df_merged['file_name']]).max()\n",
        "df_pivot = pd.DataFrame(df_pivot)\n",
        "df_pivot.head(39)"
      ],
      "execution_count": 14,
      "outputs": [
        {
          "output_type": "execute_result",
          "data": {
            "text/html": [
              "<div>\n",
              "<style scoped>\n",
              "    .dataframe tbody tr th:only-of-type {\n",
              "        vertical-align: middle;\n",
              "    }\n",
              "\n",
              "    .dataframe tbody tr th {\n",
              "        vertical-align: top;\n",
              "    }\n",
              "\n",
              "    .dataframe thead th {\n",
              "        text-align: right;\n",
              "    }\n",
              "</style>\n",
              "<table border=\"1\" class=\"dataframe\">\n",
              "  <thead>\n",
              "    <tr style=\"text-align: right;\">\n",
              "      <th></th>\n",
              "      <th></th>\n",
              "      <th>Target_ratio</th>\n",
              "    </tr>\n",
              "    <tr>\n",
              "      <th>number_class</th>\n",
              "      <th>file_name</th>\n",
              "      <th></th>\n",
              "    </tr>\n",
              "  </thead>\n",
              "  <tbody>\n",
              "    <tr>\n",
              "      <th rowspan=\"10\" valign=\"top\">1</th>\n",
              "      <th>apple pie.jpeg</th>\n",
              "      <td>1.000000</td>\n",
              "    </tr>\n",
              "    <tr>\n",
              "      <th>bread pudding.jpg</th>\n",
              "      <td>1.000000</td>\n",
              "    </tr>\n",
              "    <tr>\n",
              "      <th>breakfast burrito.jpg</th>\n",
              "      <td>1.000000</td>\n",
              "    </tr>\n",
              "    <tr>\n",
              "      <th>chicken wings.jpg</th>\n",
              "      <td>1.000000</td>\n",
              "    </tr>\n",
              "    <tr>\n",
              "      <th>cup cakes.jpeg</th>\n",
              "      <td>1.000000</td>\n",
              "    </tr>\n",
              "    <tr>\n",
              "      <th>dumplings.jpg</th>\n",
              "      <td>1.000000</td>\n",
              "    </tr>\n",
              "    <tr>\n",
              "      <th>omelette.jpg</th>\n",
              "      <td>1.000000</td>\n",
              "    </tr>\n",
              "    <tr>\n",
              "      <th>risotto.jpg</th>\n",
              "      <td>0.833333</td>\n",
              "    </tr>\n",
              "    <tr>\n",
              "      <th>spaghetti bolognese.jpg</th>\n",
              "      <td>0.666667</td>\n",
              "    </tr>\n",
              "    <tr>\n",
              "      <th>spaghetti carbonara.jpg</th>\n",
              "      <td>1.000000</td>\n",
              "    </tr>\n",
              "    <tr>\n",
              "      <th rowspan=\"8\" valign=\"top\">2</th>\n",
              "      <th>apple pie+ice cream.jpg</th>\n",
              "      <td>1.000000</td>\n",
              "    </tr>\n",
              "    <tr>\n",
              "      <th>apple pie+ice cream2.jpg</th>\n",
              "      <td>0.500000</td>\n",
              "    </tr>\n",
              "    <tr>\n",
              "      <th>apple pie+ice cream3.jpeg</th>\n",
              "      <td>1.000000</td>\n",
              "    </tr>\n",
              "    <tr>\n",
              "      <th>club sandwich+caesar salad.jpg</th>\n",
              "      <td>1.000000</td>\n",
              "    </tr>\n",
              "    <tr>\n",
              "      <th>hamburger+caesar salad.jpg</th>\n",
              "      <td>1.000000</td>\n",
              "    </tr>\n",
              "    <tr>\n",
              "      <th>risotto+chicken wings.jpg</th>\n",
              "      <td>1.000000</td>\n",
              "    </tr>\n",
              "    <tr>\n",
              "      <th>risotto+eggs benedict.jpg</th>\n",
              "      <td>1.000000</td>\n",
              "    </tr>\n",
              "    <tr>\n",
              "      <th>steak+risotto.jpg</th>\n",
              "      <td>1.000000</td>\n",
              "    </tr>\n",
              "    <tr>\n",
              "      <th rowspan=\"7\" valign=\"top\">3</th>\n",
              "      <th>baby back ribs+caesar salad+french fries.jpg</th>\n",
              "      <td>0.708333</td>\n",
              "    </tr>\n",
              "    <tr>\n",
              "      <th>club sandwich+french fries+greek salad.jpg</th>\n",
              "      <td>0.833333</td>\n",
              "    </tr>\n",
              "    <tr>\n",
              "      <th>filet mignon+french fries+greek salad.jpg</th>\n",
              "      <td>0.714286</td>\n",
              "    </tr>\n",
              "    <tr>\n",
              "      <th>french fries+hamburger+eggs benedict.jpg</th>\n",
              "      <td>1.000000</td>\n",
              "    </tr>\n",
              "    <tr>\n",
              "      <th>french fries+hot dog+chicken wings.jpg</th>\n",
              "      <td>0.857143</td>\n",
              "    </tr>\n",
              "    <tr>\n",
              "      <th>french fries+steak+caesar salad.jpg</th>\n",
              "      <td>0.900000</td>\n",
              "    </tr>\n",
              "    <tr>\n",
              "      <th>steak+greek salad+french fries.jpg</th>\n",
              "      <td>1.000000</td>\n",
              "    </tr>\n",
              "    <tr>\n",
              "      <th rowspan=\"3\" valign=\"top\">4</th>\n",
              "      <th>steak+eggs benedict+french fries+greek salad2.jpg</th>\n",
              "      <td>0.520000</td>\n",
              "    </tr>\n",
              "    <tr>\n",
              "      <th>steak+eggs benedict+french fries+greek salad3.jpg</th>\n",
              "      <td>0.615385</td>\n",
              "    </tr>\n",
              "    <tr>\n",
              "      <th>steak+eggs benedict+french fries+greek salad4.jpg</th>\n",
              "      <td>0.444444</td>\n",
              "    </tr>\n",
              "  </tbody>\n",
              "</table>\n",
              "</div>"
            ],
            "text/plain": [
              "                                                                Target_ratio\n",
              "number_class file_name                                                      \n",
              "1            apple pie.jpeg                                         1.000000\n",
              "             bread pudding.jpg                                      1.000000\n",
              "             breakfast burrito.jpg                                  1.000000\n",
              "             chicken wings.jpg                                      1.000000\n",
              "             cup cakes.jpeg                                         1.000000\n",
              "             dumplings.jpg                                          1.000000\n",
              "             omelette.jpg                                           1.000000\n",
              "             risotto.jpg                                            0.833333\n",
              "             spaghetti bolognese.jpg                                0.666667\n",
              "             spaghetti carbonara.jpg                                1.000000\n",
              "2            apple pie+ice cream.jpg                                1.000000\n",
              "             apple pie+ice cream2.jpg                               0.500000\n",
              "             apple pie+ice cream3.jpeg                              1.000000\n",
              "             club sandwich+caesar salad.jpg                         1.000000\n",
              "             hamburger+caesar salad.jpg                             1.000000\n",
              "             risotto+chicken wings.jpg                              1.000000\n",
              "             risotto+eggs benedict.jpg                              1.000000\n",
              "             steak+risotto.jpg                                      1.000000\n",
              "3            baby back ribs+caesar salad+french fries.jpg           0.708333\n",
              "             club sandwich+french fries+greek salad.jpg             0.833333\n",
              "             filet mignon+french fries+greek salad.jpg              0.714286\n",
              "             french fries+hamburger+eggs benedict.jpg               1.000000\n",
              "             french fries+hot dog+chicken wings.jpg                 0.857143\n",
              "             french fries+steak+caesar salad.jpg                    0.900000\n",
              "             steak+greek salad+french fries.jpg                     1.000000\n",
              "4            steak+eggs benedict+french fries+greek salad2.jpg      0.520000\n",
              "             steak+eggs benedict+french fries+greek salad3.jpg      0.615385\n",
              "             steak+eggs benedict+french fries+greek salad4.jpg      0.444444"
            ]
          },
          "metadata": {
            "tags": []
          },
          "execution_count": 14
        }
      ]
    },
    {
      "cell_type": "code",
      "metadata": {
        "id": "emWlK5e06KTa",
        "colab_type": "code",
        "colab": {}
      },
      "source": [
        "df_final.to_csv('df_final.csv')\n",
        "df_merged.to_csv('df_merged.csv')\n",
        "df_pivot.to_csv('df_pivot.csv')"
      ],
      "execution_count": 0,
      "outputs": []
    },
    {
      "cell_type": "code",
      "metadata": {
        "id": "cVLJq8haPpTD",
        "colab_type": "code",
        "colab": {}
      },
      "source": [
        "df_final = pd.merge(df_pivot, df_merged, how = 'inner', on=['file_name','Target_ratio'])"
      ],
      "execution_count": 0,
      "outputs": []
    },
    {
      "cell_type": "code",
      "metadata": {
        "id": "LPSV0pGeHdmk",
        "colab_type": "code",
        "colab": {}
      },
      "source": [
        "df_final.to_csv('df_final.csv')"
      ],
      "execution_count": 0,
      "outputs": []
    },
    {
      "cell_type": "code",
      "metadata": {
        "id": "9ghSsCu12NJw",
        "colab_type": "code",
        "colab": {}
      },
      "source": [
        "df_temt = df_final[['slidind_window','strides','Target_ratio']]\n",
        "df_temt.head(200)"
      ],
      "execution_count": 0,
      "outputs": []
    },
    {
      "cell_type": "code",
      "metadata": {
        "id": "OIxAz8Wo0VR3",
        "colab_type": "code",
        "colab": {}
      },
      "source": [
        "df_final['sliding/stride'] = df_final[\"slidind_window\"].map(str) + \"/\" + df_final[\"strides\"].map(str)\n",
        "df_final.head()"
      ],
      "execution_count": 0,
      "outputs": []
    },
    {
      "cell_type": "code",
      "metadata": {
        "id": "O8XFVAI64QYr",
        "colab_type": "code",
        "outputId": "ffd9d7f2-91d0-4568-e5e0-f84479ad310e",
        "colab": {
          "base_uri": "https://localhost:8080/",
          "height": 663
        }
      },
      "source": [
        "df_final['sliding/stride'].groupby([df_final['number_class'],df_final['sliding/stride']]).count()"
      ],
      "execution_count": 19,
      "outputs": [
        {
          "output_type": "execute_result",
          "data": {
            "text/plain": [
              "number_class  sliding/stride\n",
              "1             20/100            1\n",
              "              30/100            3\n",
              "              30/40             1\n",
              "              30/60             1\n",
              "              30/80             2\n",
              "              40/100            7\n",
              "              40/40             6\n",
              "              40/60             6\n",
              "              40/80             7\n",
              "              50/100            8\n",
              "              50/40             8\n",
              "              50/60             8\n",
              "              50/80             8\n",
              "2             30/100            2\n",
              "              30/60             2\n",
              "              30/80             2\n",
              "              40/100            4\n",
              "              40/40             4\n",
              "              40/60             4\n",
              "              40/80             5\n",
              "              50/100            5\n",
              "              50/40             5\n",
              "              50/60             4\n",
              "              50/80             5\n",
              "3             20/100            1\n",
              "              20/60             2\n",
              "              30/60             1\n",
              "              30/80             2\n",
              "              40/40             1\n",
              "              40/60             2\n",
              "              50/100            1\n",
              "              50/40             2\n",
              "              50/80             1\n",
              "4             20/60             1\n",
              "              30/40             1\n",
              "              30/60             1\n",
              "Name: sliding/stride, dtype: int64"
            ]
          },
          "metadata": {
            "tags": []
          },
          "execution_count": 19
        }
      ]
    }
  ]
}